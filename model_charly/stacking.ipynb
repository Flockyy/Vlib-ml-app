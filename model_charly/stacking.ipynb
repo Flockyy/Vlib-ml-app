{
 "cells": [
  {
   "cell_type": "markdown",
   "metadata": {},
   "source": [
    "LightGBM : 91.5\n",
    "XGboost :\n",
    "ExtraTreesRegressor : 90\n",
    "RandomForestRegressor : \n"
   ]
  },
  {
   "cell_type": "code",
   "execution_count": 1,
   "metadata": {},
   "outputs": [],
   "source": [
    "import pandas as pd\n",
    "import pickle"
   ]
  },
  {
   "cell_type": "code",
   "execution_count": 2,
   "metadata": {},
   "outputs": [
    {
     "data": {
      "text/html": [
       "<div>\n",
       "<style scoped>\n",
       "    .dataframe tbody tr th:only-of-type {\n",
       "        vertical-align: middle;\n",
       "    }\n",
       "\n",
       "    .dataframe tbody tr th {\n",
       "        vertical-align: top;\n",
       "    }\n",
       "\n",
       "    .dataframe thead th {\n",
       "        text-align: right;\n",
       "    }\n",
       "</style>\n",
       "<table border=\"1\" class=\"dataframe\">\n",
       "  <thead>\n",
       "    <tr style=\"text-align: right;\">\n",
       "      <th></th>\n",
       "      <th>season</th>\n",
       "      <th>holiday</th>\n",
       "      <th>workingday</th>\n",
       "      <th>weather</th>\n",
       "      <th>temp</th>\n",
       "      <th>atemp</th>\n",
       "      <th>humidity</th>\n",
       "      <th>windspeed</th>\n",
       "      <th>casual</th>\n",
       "      <th>registered</th>\n",
       "      <th>count</th>\n",
       "      <th>month</th>\n",
       "      <th>day</th>\n",
       "      <th>hour</th>\n",
       "      <th>year</th>\n",
       "      <th>date</th>\n",
       "      <th>is_night</th>\n",
       "    </tr>\n",
       "    <tr>\n",
       "      <th>datetime</th>\n",
       "      <th></th>\n",
       "      <th></th>\n",
       "      <th></th>\n",
       "      <th></th>\n",
       "      <th></th>\n",
       "      <th></th>\n",
       "      <th></th>\n",
       "      <th></th>\n",
       "      <th></th>\n",
       "      <th></th>\n",
       "      <th></th>\n",
       "      <th></th>\n",
       "      <th></th>\n",
       "      <th></th>\n",
       "      <th></th>\n",
       "      <th></th>\n",
       "      <th></th>\n",
       "    </tr>\n",
       "  </thead>\n",
       "  <tbody>\n",
       "    <tr>\n",
       "      <th>2011-01-01 00:00:00</th>\n",
       "      <td>Winter</td>\n",
       "      <td>0</td>\n",
       "      <td>0</td>\n",
       "      <td>Clear</td>\n",
       "      <td>9.84</td>\n",
       "      <td>14.395</td>\n",
       "      <td>81</td>\n",
       "      <td>0.0000</td>\n",
       "      <td>3</td>\n",
       "      <td>13</td>\n",
       "      <td>16</td>\n",
       "      <td>1</td>\n",
       "      <td>Saturday</td>\n",
       "      <td>0</td>\n",
       "      <td>2011</td>\n",
       "      <td>718</td>\n",
       "      <td>1</td>\n",
       "    </tr>\n",
       "    <tr>\n",
       "      <th>2011-01-01 01:00:00</th>\n",
       "      <td>Winter</td>\n",
       "      <td>0</td>\n",
       "      <td>0</td>\n",
       "      <td>Clear</td>\n",
       "      <td>9.02</td>\n",
       "      <td>13.635</td>\n",
       "      <td>80</td>\n",
       "      <td>0.0000</td>\n",
       "      <td>8</td>\n",
       "      <td>32</td>\n",
       "      <td>40</td>\n",
       "      <td>1</td>\n",
       "      <td>Saturday</td>\n",
       "      <td>1</td>\n",
       "      <td>2011</td>\n",
       "      <td>718</td>\n",
       "      <td>1</td>\n",
       "    </tr>\n",
       "    <tr>\n",
       "      <th>2011-01-01 02:00:00</th>\n",
       "      <td>Winter</td>\n",
       "      <td>0</td>\n",
       "      <td>0</td>\n",
       "      <td>Clear</td>\n",
       "      <td>9.02</td>\n",
       "      <td>13.635</td>\n",
       "      <td>80</td>\n",
       "      <td>0.0000</td>\n",
       "      <td>5</td>\n",
       "      <td>27</td>\n",
       "      <td>32</td>\n",
       "      <td>1</td>\n",
       "      <td>Saturday</td>\n",
       "      <td>2</td>\n",
       "      <td>2011</td>\n",
       "      <td>718</td>\n",
       "      <td>1</td>\n",
       "    </tr>\n",
       "    <tr>\n",
       "      <th>2011-01-01 03:00:00</th>\n",
       "      <td>Winter</td>\n",
       "      <td>0</td>\n",
       "      <td>0</td>\n",
       "      <td>Clear</td>\n",
       "      <td>9.84</td>\n",
       "      <td>14.395</td>\n",
       "      <td>75</td>\n",
       "      <td>0.0000</td>\n",
       "      <td>3</td>\n",
       "      <td>10</td>\n",
       "      <td>13</td>\n",
       "      <td>1</td>\n",
       "      <td>Saturday</td>\n",
       "      <td>3</td>\n",
       "      <td>2011</td>\n",
       "      <td>718</td>\n",
       "      <td>1</td>\n",
       "    </tr>\n",
       "    <tr>\n",
       "      <th>2011-01-01 04:00:00</th>\n",
       "      <td>Winter</td>\n",
       "      <td>0</td>\n",
       "      <td>0</td>\n",
       "      <td>Clear</td>\n",
       "      <td>9.84</td>\n",
       "      <td>14.395</td>\n",
       "      <td>75</td>\n",
       "      <td>0.0000</td>\n",
       "      <td>0</td>\n",
       "      <td>1</td>\n",
       "      <td>1</td>\n",
       "      <td>1</td>\n",
       "      <td>Saturday</td>\n",
       "      <td>4</td>\n",
       "      <td>2011</td>\n",
       "      <td>718</td>\n",
       "      <td>1</td>\n",
       "    </tr>\n",
       "    <tr>\n",
       "      <th>...</th>\n",
       "      <td>...</td>\n",
       "      <td>...</td>\n",
       "      <td>...</td>\n",
       "      <td>...</td>\n",
       "      <td>...</td>\n",
       "      <td>...</td>\n",
       "      <td>...</td>\n",
       "      <td>...</td>\n",
       "      <td>...</td>\n",
       "      <td>...</td>\n",
       "      <td>...</td>\n",
       "      <td>...</td>\n",
       "      <td>...</td>\n",
       "      <td>...</td>\n",
       "      <td>...</td>\n",
       "      <td>...</td>\n",
       "      <td>...</td>\n",
       "    </tr>\n",
       "    <tr>\n",
       "      <th>2012-12-19 19:00:00</th>\n",
       "      <td>Fall</td>\n",
       "      <td>0</td>\n",
       "      <td>1</td>\n",
       "      <td>Clear</td>\n",
       "      <td>15.58</td>\n",
       "      <td>19.695</td>\n",
       "      <td>50</td>\n",
       "      <td>26.0027</td>\n",
       "      <td>7</td>\n",
       "      <td>329</td>\n",
       "      <td>336</td>\n",
       "      <td>12</td>\n",
       "      <td>Wednesday</td>\n",
       "      <td>19</td>\n",
       "      <td>2012</td>\n",
       "      <td>0</td>\n",
       "      <td>0</td>\n",
       "    </tr>\n",
       "    <tr>\n",
       "      <th>2012-12-19 20:00:00</th>\n",
       "      <td>Fall</td>\n",
       "      <td>0</td>\n",
       "      <td>1</td>\n",
       "      <td>Clear</td>\n",
       "      <td>14.76</td>\n",
       "      <td>17.425</td>\n",
       "      <td>57</td>\n",
       "      <td>15.0013</td>\n",
       "      <td>10</td>\n",
       "      <td>231</td>\n",
       "      <td>241</td>\n",
       "      <td>12</td>\n",
       "      <td>Wednesday</td>\n",
       "      <td>20</td>\n",
       "      <td>2012</td>\n",
       "      <td>0</td>\n",
       "      <td>1</td>\n",
       "    </tr>\n",
       "    <tr>\n",
       "      <th>2012-12-19 21:00:00</th>\n",
       "      <td>Fall</td>\n",
       "      <td>0</td>\n",
       "      <td>1</td>\n",
       "      <td>Clear</td>\n",
       "      <td>13.94</td>\n",
       "      <td>15.910</td>\n",
       "      <td>61</td>\n",
       "      <td>15.0013</td>\n",
       "      <td>4</td>\n",
       "      <td>164</td>\n",
       "      <td>168</td>\n",
       "      <td>12</td>\n",
       "      <td>Wednesday</td>\n",
       "      <td>21</td>\n",
       "      <td>2012</td>\n",
       "      <td>0</td>\n",
       "      <td>1</td>\n",
       "    </tr>\n",
       "    <tr>\n",
       "      <th>2012-12-19 22:00:00</th>\n",
       "      <td>Fall</td>\n",
       "      <td>0</td>\n",
       "      <td>1</td>\n",
       "      <td>Clear</td>\n",
       "      <td>13.94</td>\n",
       "      <td>17.425</td>\n",
       "      <td>61</td>\n",
       "      <td>6.0032</td>\n",
       "      <td>12</td>\n",
       "      <td>117</td>\n",
       "      <td>129</td>\n",
       "      <td>12</td>\n",
       "      <td>Wednesday</td>\n",
       "      <td>22</td>\n",
       "      <td>2012</td>\n",
       "      <td>0</td>\n",
       "      <td>1</td>\n",
       "    </tr>\n",
       "    <tr>\n",
       "      <th>2012-12-19 23:00:00</th>\n",
       "      <td>Fall</td>\n",
       "      <td>0</td>\n",
       "      <td>1</td>\n",
       "      <td>Clear</td>\n",
       "      <td>13.12</td>\n",
       "      <td>16.665</td>\n",
       "      <td>66</td>\n",
       "      <td>8.9981</td>\n",
       "      <td>4</td>\n",
       "      <td>84</td>\n",
       "      <td>88</td>\n",
       "      <td>12</td>\n",
       "      <td>Wednesday</td>\n",
       "      <td>23</td>\n",
       "      <td>2012</td>\n",
       "      <td>0</td>\n",
       "      <td>1</td>\n",
       "    </tr>\n",
       "  </tbody>\n",
       "</table>\n",
       "<p>10886 rows × 17 columns</p>\n",
       "</div>"
      ],
      "text/plain": [
       "                     season  holiday  workingday weather   temp   atemp  \\\n",
       "datetime                                                                  \n",
       "2011-01-01 00:00:00  Winter        0           0   Clear   9.84  14.395   \n",
       "2011-01-01 01:00:00  Winter        0           0   Clear   9.02  13.635   \n",
       "2011-01-01 02:00:00  Winter        0           0   Clear   9.02  13.635   \n",
       "2011-01-01 03:00:00  Winter        0           0   Clear   9.84  14.395   \n",
       "2011-01-01 04:00:00  Winter        0           0   Clear   9.84  14.395   \n",
       "...                     ...      ...         ...     ...    ...     ...   \n",
       "2012-12-19 19:00:00    Fall        0           1   Clear  15.58  19.695   \n",
       "2012-12-19 20:00:00    Fall        0           1   Clear  14.76  17.425   \n",
       "2012-12-19 21:00:00    Fall        0           1   Clear  13.94  15.910   \n",
       "2012-12-19 22:00:00    Fall        0           1   Clear  13.94  17.425   \n",
       "2012-12-19 23:00:00    Fall        0           1   Clear  13.12  16.665   \n",
       "\n",
       "                     humidity  windspeed  casual  registered  count  month  \\\n",
       "datetime                                                                     \n",
       "2011-01-01 00:00:00        81     0.0000       3          13     16      1   \n",
       "2011-01-01 01:00:00        80     0.0000       8          32     40      1   \n",
       "2011-01-01 02:00:00        80     0.0000       5          27     32      1   \n",
       "2011-01-01 03:00:00        75     0.0000       3          10     13      1   \n",
       "2011-01-01 04:00:00        75     0.0000       0           1      1      1   \n",
       "...                       ...        ...     ...         ...    ...    ...   \n",
       "2012-12-19 19:00:00        50    26.0027       7         329    336     12   \n",
       "2012-12-19 20:00:00        57    15.0013      10         231    241     12   \n",
       "2012-12-19 21:00:00        61    15.0013       4         164    168     12   \n",
       "2012-12-19 22:00:00        61     6.0032      12         117    129     12   \n",
       "2012-12-19 23:00:00        66     8.9981       4          84     88     12   \n",
       "\n",
       "                           day  hour  year  date  is_night  \n",
       "datetime                                                    \n",
       "2011-01-01 00:00:00   Saturday     0  2011   718         1  \n",
       "2011-01-01 01:00:00   Saturday     1  2011   718         1  \n",
       "2011-01-01 02:00:00   Saturday     2  2011   718         1  \n",
       "2011-01-01 03:00:00   Saturday     3  2011   718         1  \n",
       "2011-01-01 04:00:00   Saturday     4  2011   718         1  \n",
       "...                        ...   ...   ...   ...       ...  \n",
       "2012-12-19 19:00:00  Wednesday    19  2012     0         0  \n",
       "2012-12-19 20:00:00  Wednesday    20  2012     0         1  \n",
       "2012-12-19 21:00:00  Wednesday    21  2012     0         1  \n",
       "2012-12-19 22:00:00  Wednesday    22  2012     0         1  \n",
       "2012-12-19 23:00:00  Wednesday    23  2012     0         1  \n",
       "\n",
       "[10886 rows x 17 columns]"
      ]
     },
     "execution_count": 2,
     "metadata": {},
     "output_type": "execute_result"
    }
   ],
   "source": [
    "# Importation des données et visualisation \n",
    "df = pd.read_csv('datasets/velille.csv', parse_dates=True, index_col='datetime') \n",
    "df"
   ]
  },
  {
   "cell_type": "code",
   "execution_count": 3,
   "metadata": {},
   "outputs": [],
   "source": [
    "# Remise en nombre du temps et des saisons par ordre\n",
    "\n",
    "weather_dict = {'Clear':1, 'Misty+Cloudy':2, 'Light Snow/Rain':3, 'Heavy Snow/Rain':4}\n",
    "season_dict = {'Winter':1, 'Fall':2, 'Spring':3, 'Summer':4}\n",
    "df['weather'] = df['weather'].map(weather_dict)\n",
    "df['season'] = df['season'].map(season_dict)"
   ]
  },
  {
   "cell_type": "code",
   "execution_count": 4,
   "metadata": {},
   "outputs": [],
   "source": [
    "# Séparations données de test\n",
    "\n",
    "train_df = df[df.index <= '2012-08-31'].drop(['casual','registered'], axis=1)\n",
    "test_df = df[df.index >= '2012-09-01'].drop(['casual','registered'], axis=1)\n",
    "\n"
   ]
  },
  {
   "cell_type": "code",
   "execution_count": 5,
   "metadata": {},
   "outputs": [],
   "source": [
    "train_df = train_df.reset_index()\n",
    "test_df = test_df.reset_index()"
   ]
  },
  {
   "cell_type": "code",
   "execution_count": 6,
   "metadata": {},
   "outputs": [],
   "source": [
    "train_df = train_df.drop(['datetime'], axis=1)\n",
    "test_df = test_df.drop(['datetime'], axis=1)\n",
    "\n",
    "y_train = train_df['count']\n",
    "X_train = train_df.drop(['count'], axis=1)\n",
    "y_test = test_df['count']\n",
    "X_test = test_df.drop(['count'], axis=1)"
   ]
  },
  {
   "cell_type": "code",
   "execution_count": 50,
   "metadata": {},
   "outputs": [
    {
     "name": "stdout",
     "output_type": "stream",
     "text": [
      "0.9058640431829525\n"
     ]
    }
   ],
   "source": [
    "# Import XBBRegressor\n",
    "\n",
    "xgb = pickle.load(open('XGBRegressor.pkl', 'rb'))\n",
    "result = xgb.score(X_test, y_test)\n",
    "print(result)"
   ]
  },
  {
   "cell_type": "code",
   "execution_count": 8,
   "metadata": {},
   "outputs": [],
   "source": [
    "# Import XGB Florian\n",
    "\n",
    "# xgb_flo = pickle.load(open('xgb_best.pkl', 'rb'))\n",
    "# result = xgb_flo.score(X_test, y_test)\n",
    "# print(result)"
   ]
  },
  {
   "cell_type": "code",
   "execution_count": 51,
   "metadata": {},
   "outputs": [
    {
     "name": "stdout",
     "output_type": "stream",
     "text": [
      "0.9210319440325717\n"
     ]
    }
   ],
   "source": [
    "# Import LGBMRegressor\n",
    "\n",
    "lgbm = pickle.load(open('LGBMRegressor.pkl', 'rb'))\n",
    "result = lgbm.score(X_test, y_test)\n",
    "print(result)"
   ]
  },
  {
   "cell_type": "code",
   "execution_count": 52,
   "metadata": {},
   "outputs": [
    {
     "name": "stdout",
     "output_type": "stream",
     "text": [
      "0.8813124774734877\n"
     ]
    }
   ],
   "source": [
    "# Import RandomForestRegressor\n",
    "\n",
    "rf = pickle.load(open('RandomForestRegressor.pkl', 'rb'))\n",
    "result = rf.score(X_test, y_test)\n",
    "print(result)"
   ]
  },
  {
   "cell_type": "code",
   "execution_count": 66,
   "metadata": {},
   "outputs": [
    {
     "name": "stdout",
     "output_type": "stream",
     "text": [
      "0.9009600585154496\n"
     ]
    }
   ],
   "source": [
    "# Import ExtraTreesRegressor\n",
    "\n",
    "extra = pickle.load(open('ExtraTreesRegressor2.pkl', 'rb'))\n",
    "result = extra.score(X_test, y_test)\n",
    "print(result)"
   ]
  },
  {
   "cell_type": "code",
   "execution_count": 113,
   "metadata": {},
   "outputs": [],
   "source": [
    "from sklearn.ensemble import StackingRegressor\n",
    "from lightgbm import LGBMRegressor\n",
    "from xgboost import XGBRegressor\n",
    "from sklearn.linear_model import LinearRegression\n",
    "\n",
    "base_models = [('LightGBM', lgbm),\n",
    "               ]\n",
    "meta_model = LinearRegression()\n",
    "stacking_model = StackingRegressor(estimators = base_models, final_estimator = meta_model, cv=2)"
   ]
  },
  {
   "cell_type": "code",
   "execution_count": 13,
   "metadata": {},
   "outputs": [],
   "source": [
    "# stacking_model.get_params().keys()"
   ]
  },
  {
   "cell_type": "code",
   "execution_count": 114,
   "metadata": {},
   "outputs": [
    {
     "data": {
      "text/plain": [
       "StackingRegressor(cv=2,\n",
       "                  estimators=[('LightGBM',\n",
       "                               Pipeline(steps=[('columntransformer',\n",
       "                                                ColumnTransformer(transformers=[('pipeline-1',\n",
       "                                                                                 Pipeline(steps=[('onehotencoder',\n",
       "                                                                                                  OneHotEncoder(handle_unknown='ignore'))]),\n",
       "                                                                                 ['season',\n",
       "                                                                                  'weather',\n",
       "                                                                                  'holiday',\n",
       "                                                                                  'workingday',\n",
       "                                                                                  'year',\n",
       "                                                                                  'month',\n",
       "                                                                                  'day',\n",
       "                                                                                  'hour',\n",
       "                                                                                  'is_night']),\n",
       "                                                                                ('pipeline-2',\n",
       "                                                                                 Pipeline(steps=[('functiontransformer',\n",
       "                                                                                                  FunctionTransformer(func=<ufunc 'log1p'>))]),\n",
       "                                                                                 ['atemp',\n",
       "                                                                                  'temp',\n",
       "                                                                                  'windspeed',\n",
       "                                                                                  'humidity',\n",
       "                                                                                  'date'])])),\n",
       "                                               ('lgbmregressor',\n",
       "                                                LGBMRegressor(learning_rate=0.05,\n",
       "                                                              n_estimators=400))]))],\n",
       "                  final_estimator=LinearRegression())"
      ]
     },
     "execution_count": 114,
     "metadata": {},
     "output_type": "execute_result"
    }
   ],
   "source": [
    "\n",
    "\n",
    "stacking_model.fit(X_train, y_train)\n",
    "\n"
   ]
  },
  {
   "cell_type": "code",
   "execution_count": 115,
   "metadata": {},
   "outputs": [
    {
     "data": {
      "text/plain": [
       "0.9284686246936358"
      ]
     },
     "execution_count": 115,
     "metadata": {},
     "output_type": "execute_result"
    }
   ],
   "source": [
    "stacking_model.score(X_test, y_test)"
   ]
  },
  {
   "cell_type": "code",
   "execution_count": 85,
   "metadata": {},
   "outputs": [
    {
     "name": "stdout",
     "output_type": "stream",
     "text": [
      "r2 0.9284686246936358\n",
      "mae 39.574517844168454\n"
     ]
    }
   ],
   "source": [
    "from sklearn.metrics import *\n",
    "\n",
    "y_pred = stacking_model.predict(X_test)\n",
    "print('r2', r2_score(y_test, y_pred))\n",
    "print('mae', mean_absolute_error(y_test, y_pred))"
   ]
  },
  {
   "cell_type": "code",
   "execution_count": 87,
   "metadata": {},
   "outputs": [],
   "source": [
    "# pickle\n",
    "import pickle\n",
    "pickle.dump(stacking_model, open('StackingModel.pkl', 'wb'))"
   ]
  },
  {
   "cell_type": "code",
   "execution_count": 88,
   "metadata": {},
   "outputs": [],
   "source": [
    "# Test Ridge\n",
    "\n",
    "from sklearn.linear_model import Ridge\n",
    "stacking_ridge = StackingRegressor(estimators = base_models, final_estimator = Ridge(), cv=2)"
   ]
  },
  {
   "cell_type": "code",
   "execution_count": 89,
   "metadata": {},
   "outputs": [
    {
     "data": {
      "text/plain": [
       "StackingRegressor(cv=2,\n",
       "                  estimators=[('LightGBM',\n",
       "                               Pipeline(steps=[('columntransformer',\n",
       "                                                ColumnTransformer(transformers=[('pipeline-1',\n",
       "                                                                                 Pipeline(steps=[('onehotencoder',\n",
       "                                                                                                  OneHotEncoder(handle_unknown='ignore'))]),\n",
       "                                                                                 ['season',\n",
       "                                                                                  'weather',\n",
       "                                                                                  'holiday',\n",
       "                                                                                  'workingday',\n",
       "                                                                                  'year',\n",
       "                                                                                  'month',\n",
       "                                                                                  'day',\n",
       "                                                                                  'hour',\n",
       "                                                                                  'is_night']),\n",
       "                                                                                ('pipeline-2',\n",
       "                                                                                 Pipeline(steps=[('functiontransformer',\n",
       "                                                                                                  FunctionTransformer(func=<ufunc 'log1p'>))]),\n",
       "                                                                                 ['atemp',\n",
       "                                                                                  'temp',\n",
       "                                                                                  'windspeed',\n",
       "                                                                                  'humidity',\n",
       "                                                                                  'date'])])),\n",
       "                                               ('lgbmregressor',\n",
       "                                                LGBMRegressor(learning_rate=0.05,\n",
       "                                                              n_estimators=400))]))],\n",
       "                  final_estimator=Ridge())"
      ]
     },
     "execution_count": 89,
     "metadata": {},
     "output_type": "execute_result"
    }
   ],
   "source": [
    "stacking_ridge.fit(X_train, y_train)"
   ]
  },
  {
   "cell_type": "code",
   "execution_count": 90,
   "metadata": {},
   "outputs": [
    {
     "name": "stdout",
     "output_type": "stream",
     "text": [
      "La performance du modèle sur la base d'apprentissage\n",
      "le score R2 est 0.9690355524053441\n",
      "mae 20.27599721882929\n",
      "\n",
      "\n",
      "La performance du modèle sur la base du test\n",
      "r2 0.9284686247886903\n",
      "mae 39.574517783179736\n"
     ]
    }
   ],
   "source": [
    "stacking_ridge.score(X_test, y_test)\n",
    "\n",
    "# Evaluation du training set\n",
    "\n",
    "y_train_predict = stacking_ridge.predict(X_train)\n",
    "r2 = r2_score(y_train, y_train_predict)\n",
    "\n",
    "print(\"La performance du modèle sur la base d'apprentissage\")\n",
    "print('le score R2 est {}'.format(r2))\n",
    "print('mae', mean_absolute_error(y_train, y_train_predict))\n",
    "print('\\n')\n",
    "\n",
    "print(\"La performance du modèle sur la base du test\")\n",
    "y_pred = stacking_ridge.predict(X_test)\n",
    "print('r2', r2_score(y_test, y_pred))\n",
    "print('mae', mean_absolute_error(y_test, y_pred))"
   ]
  },
  {
   "cell_type": "code",
   "execution_count": 45,
   "metadata": {},
   "outputs": [],
   "source": [
    "# pickle\n",
    "import pickle\n",
    "pickle.dump(stacking_ridge, open('StackingRidge.pkl', 'wb'))"
   ]
  },
  {
   "cell_type": "code",
   "execution_count": 91,
   "metadata": {},
   "outputs": [],
   "source": [
    "# Test Lasso\n",
    "\n",
    "from sklearn.linear_model import Lasso\n",
    "stacking_lasso = StackingRegressor(estimators = base_models, final_estimator = Lasso(), cv=2)"
   ]
  },
  {
   "cell_type": "code",
   "execution_count": 92,
   "metadata": {},
   "outputs": [
    {
     "data": {
      "text/plain": [
       "StackingRegressor(cv=2,\n",
       "                  estimators=[('LightGBM',\n",
       "                               Pipeline(steps=[('columntransformer',\n",
       "                                                ColumnTransformer(transformers=[('pipeline-1',\n",
       "                                                                                 Pipeline(steps=[('onehotencoder',\n",
       "                                                                                                  OneHotEncoder(handle_unknown='ignore'))]),\n",
       "                                                                                 ['season',\n",
       "                                                                                  'weather',\n",
       "                                                                                  'holiday',\n",
       "                                                                                  'workingday',\n",
       "                                                                                  'year',\n",
       "                                                                                  'month',\n",
       "                                                                                  'day',\n",
       "                                                                                  'hour',\n",
       "                                                                                  'is_night']),\n",
       "                                                                                ('pipeline-2',\n",
       "                                                                                 Pipeline(steps=[('functiontransformer',\n",
       "                                                                                                  FunctionTransformer(func=<ufunc 'log1p'>))]),\n",
       "                                                                                 ['atemp',\n",
       "                                                                                  'temp',\n",
       "                                                                                  'windspeed',\n",
       "                                                                                  'humidity',\n",
       "                                                                                  'date'])])),\n",
       "                                               ('lgbmregressor',\n",
       "                                                LGBMRegressor(learning_rate=0.05,\n",
       "                                                              n_estimators=400))]))],\n",
       "                  final_estimator=Lasso())"
      ]
     },
     "execution_count": 92,
     "metadata": {},
     "output_type": "execute_result"
    }
   ],
   "source": [
    "stacking_lasso.fit(X_train, y_train)"
   ]
  },
  {
   "cell_type": "code",
   "execution_count": 93,
   "metadata": {},
   "outputs": [
    {
     "data": {
      "text/plain": [
       "0.9284694154024109"
      ]
     },
     "execution_count": 93,
     "metadata": {},
     "output_type": "execute_result"
    }
   ],
   "source": [
    "stacking_lasso.score(X_test, y_test)"
   ]
  },
  {
   "cell_type": "code",
   "execution_count": 95,
   "metadata": {},
   "outputs": [],
   "source": [
    "# pickle\n",
    "import pickle\n",
    "pickle.dump(stacking_lasso, open('StakingLasso3.pkl', 'wb'))"
   ]
  },
  {
   "cell_type": "code",
   "execution_count": 94,
   "metadata": {},
   "outputs": [
    {
     "name": "stdout",
     "output_type": "stream",
     "text": [
      "r2 0.9284694154024109\n",
      "mae 39.57400892540746\n"
     ]
    }
   ],
   "source": [
    "\n",
    "y_pred = stacking_lasso.predict(X_test)\n",
    "print('r2', r2_score(y_test, y_pred))\n",
    "print('mae', mean_absolute_error(y_test, y_pred))"
   ]
  },
  {
   "cell_type": "code",
   "execution_count": 25,
   "metadata": {},
   "outputs": [],
   "source": [
    "from sklearn.ensemble import VotingRegressor\n",
    "models = [('LightGBM', lgbm),\n",
    "            ('XBG', xgb),\n",
    "            ('ExtraTrees', extra),\n",
    "            ('RandomForest', rf),\n",
    "               ]\n",
    "\n",
    "voting_model = VotingRegressor(estimators = models)"
   ]
  },
  {
   "cell_type": "code",
   "execution_count": 26,
   "metadata": {},
   "outputs": [
    {
     "data": {
      "text/plain": [
       "VotingRegressor(estimators=[('LightGBM',\n",
       "                             Pipeline(steps=[('columntransformer',\n",
       "                                              ColumnTransformer(transformers=[('pipeline-1',\n",
       "                                                                               Pipeline(steps=[('onehotencoder',\n",
       "                                                                                                OneHotEncoder(handle_unknown='ignore'))]),\n",
       "                                                                               ['season',\n",
       "                                                                                'weather',\n",
       "                                                                                'holiday',\n",
       "                                                                                'workingday',\n",
       "                                                                                'year',\n",
       "                                                                                'month',\n",
       "                                                                                'day',\n",
       "                                                                                'hour',\n",
       "                                                                                'is_night']),\n",
       "                                                                              ('pipeline-2',\n",
       "                                                                               Pipeline(steps=[('functiontransformer',\n",
       "                                                                                                FunctionTransfo...\n",
       "                                                                               Pipeline(steps=[('onehotencoder',\n",
       "                                                                                                OneHotEncoder(handle_unknown='ignore'))]),\n",
       "                                                                               ['season',\n",
       "                                                                                'weather',\n",
       "                                                                                'holiday',\n",
       "                                                                                'workingday',\n",
       "                                                                                'year',\n",
       "                                                                                'month',\n",
       "                                                                                'day',\n",
       "                                                                                'hour',\n",
       "                                                                                'is_night']),\n",
       "                                                                              ('pipeline-2',\n",
       "                                                                               Pipeline(steps=[('functiontransformer',\n",
       "                                                                                                FunctionTransformer(func=<ufunc 'log1p'>))]),\n",
       "                                                                               ['atemp',\n",
       "                                                                                'temp',\n",
       "                                                                                'windspeed',\n",
       "                                                                                'humidity',\n",
       "                                                                                'date'])])),\n",
       "                                             ('randomforestregressor',\n",
       "                                              RandomForestRegressor())]))])"
      ]
     },
     "execution_count": 26,
     "metadata": {},
     "output_type": "execute_result"
    }
   ],
   "source": [
    "voting_model.fit(X_train, y_train)"
   ]
  },
  {
   "cell_type": "code",
   "execution_count": 27,
   "metadata": {},
   "outputs": [
    {
     "data": {
      "text/plain": [
       "0.9130906573628933"
      ]
     },
     "execution_count": 27,
     "metadata": {},
     "output_type": "execute_result"
    }
   ],
   "source": [
    "voting_model.score(X_test, y_test)"
   ]
  }
 ],
 "metadata": {
  "interpreter": {
   "hash": "dd1cc886148b1d3dda72fea19e5fba9571a5a0d898d8fb89a58d1d381078e2c8"
  },
  "kernelspec": {
   "display_name": "Python 3.9.7 ('devia')",
   "language": "python",
   "name": "python3"
  },
  "language_info": {
   "codemirror_mode": {
    "name": "ipython",
    "version": 3
   },
   "file_extension": ".py",
   "mimetype": "text/x-python",
   "name": "python",
   "nbconvert_exporter": "python",
   "pygments_lexer": "ipython3",
   "version": "3.9.7"
  },
  "orig_nbformat": 4
 },
 "nbformat": 4,
 "nbformat_minor": 2
}
