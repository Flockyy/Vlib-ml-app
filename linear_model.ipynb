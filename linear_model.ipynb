{
 "cells": [
  {
   "cell_type": "markdown",
   "metadata": {},
   "source": [
    "### Data Fields\n",
    "* datetime - hourly date + timestamp   \n",
    "* season:\n",
    "    -  1 = spring, \n",
    "    - 2 = summer, \n",
    "    - 3 = fall, \n",
    "    - 4 = winter  \n",
    "* holiday - whether the day is considered a holiday \n",
    "* workingday - whether the day is neither a weekend nor holiday \n",
    "* weather:\n",
    "    - 1: Clear, Few clouds, Partly cloudy, Partly cloudy \n",
    "    - 2: Mist + Cloudy, Mist + Broken clouds, Mist + Few clouds, Mist \n",
    "    - 3: Light Snow, Light Rain + Thunderstorm + Scattered clouds, Light Rain + Scattered clouds \n",
    "    - 4: Heavy Rain + Ice Pallets + Thunderstorm + Mist, Snow + Fog  \n",
    "* temp - temperature in Celsius \n",
    "* atemp - \"feels like\" temperature in Celsius \n",
    "* humidity - relative humidity \n",
    "* windspeed - wind speed \n",
    "* casual - number of non-registered user rentals initiated \n",
    "* registered - number of registered user rentals initiated \n",
    "* count - number of total rentals "
   ]
  }
 ],
 "metadata": {
  "language_info": {
   "name": "python"
  },
  "orig_nbformat": 4
 },
 "nbformat": 4,
 "nbformat_minor": 2
}
