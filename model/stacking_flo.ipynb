{
 "cells": [
  {
   "cell_type": "code",
   "execution_count": 1,
   "metadata": {},
   "outputs": [],
   "source": [
    "import pandas as pd\n",
    "import pickle"
   ]
  },
  {
   "cell_type": "code",
   "execution_count": 2,
   "metadata": {},
   "outputs": [],
   "source": [
    "# Importation des données\n",
    "train_df = pd.read_csv('../data/cleaned_train.csv')\n",
    "test_df = pd.read_csv('../data/cleaned_test.csv')"
   ]
  },
  {
   "cell_type": "code",
   "execution_count": 5,
   "metadata": {},
   "outputs": [],
   "source": [
    "y_train = train_df['count']\n",
    "X_train = train_df.drop(['count'], axis=1)\n",
    "y_test = test_df['count']\n",
    "X_test = test_df.drop(['count'], axis=1)"
   ]
  },
  {
   "cell_type": "code",
   "execution_count": 6,
   "metadata": {},
   "outputs": [
    {
     "name": "stdout",
     "output_type": "stream",
     "text": [
      "0.9079072999354116\n"
     ]
    }
   ],
   "source": [
    "# Import XGB Florian\n",
    "\n",
    "xgb_flo = pickle.load(open('xgb_best.pkl', 'rb'))\n",
    "result = xgb_flo.score(X_test, y_test)\n",
    "print(result)"
   ]
  },
  {
   "cell_type": "code",
   "execution_count": 9,
   "metadata": {},
   "outputs": [],
   "source": [
    "from sklearn.ensemble import StackingRegressor\n",
    "from sklearn.linear_model import LinearRegression\n",
    "\n",
    "base_models = [('XGB', xgb_flo),\n",
    "               ]\n",
    "meta_model = LinearRegression()\n",
    "stacking_model = StackingRegressor(estimators = base_models, final_estimator = meta_model, cv=2)"
   ]
  },
  {
   "cell_type": "code",
   "execution_count": 10,
   "metadata": {},
   "outputs": [
    {
     "data": {
      "text/plain": [
       "StackingRegressor(cv=2,\n",
       "                  estimators=[('XGB',\n",
       "                               LGBMRegressor(learning_rate=0.01,\n",
       "                                             n_estimators=1000))],\n",
       "                  final_estimator=LinearRegression())"
      ]
     },
     "execution_count": 10,
     "metadata": {},
     "output_type": "execute_result"
    }
   ],
   "source": [
    "\n",
    "stacking_model.fit(X_train, y_train)"
   ]
  },
  {
   "cell_type": "code",
   "execution_count": 11,
   "metadata": {},
   "outputs": [
    {
     "data": {
      "text/plain": [
       "0.9152402670309673"
      ]
     },
     "execution_count": 11,
     "metadata": {},
     "output_type": "execute_result"
    }
   ],
   "source": [
    "stacking_model.score(X_test, y_test)"
   ]
  },
  {
   "cell_type": "code",
   "execution_count": 12,
   "metadata": {},
   "outputs": [
    {
     "name": "stdout",
     "output_type": "stream",
     "text": [
      "r2 0.9152402670309673\n",
      "mae 43.42827816141063\n"
     ]
    }
   ],
   "source": [
    "from sklearn.metrics import *\n",
    "\n",
    "y_pred = stacking_model.predict(X_test)\n",
    "print('r2', r2_score(y_test, y_pred))\n",
    "print('mae', mean_absolute_error(y_test, y_pred))"
   ]
  }
 ],
 "metadata": {
  "interpreter": {
   "hash": "dd1cc886148b1d3dda72fea19e5fba9571a5a0d898d8fb89a58d1d381078e2c8"
  },
  "kernelspec": {
   "display_name": "Python 3.9.7 ('devia')",
   "language": "python",
   "name": "python3"
  },
  "language_info": {
   "codemirror_mode": {
    "name": "ipython",
    "version": 3
   },
   "file_extension": ".py",
   "mimetype": "text/x-python",
   "name": "python",
   "nbconvert_exporter": "python",
   "pygments_lexer": "ipython3",
   "version": "3.9.7"
  },
  "orig_nbformat": 4
 },
 "nbformat": 4,
 "nbformat_minor": 2
}
