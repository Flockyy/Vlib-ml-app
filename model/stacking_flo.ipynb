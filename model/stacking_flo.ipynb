{
 "cells": [
  {
   "cell_type": "code",
   "execution_count": 1,
   "metadata": {},
   "outputs": [],
   "source": [
    "import pandas as pd\n",
    "import pickle"
   ]
  },
  {
   "cell_type": "code",
   "execution_count": 2,
   "metadata": {},
   "outputs": [],
   "source": [
    "# Importation des données\n",
    "train_df = pd.read_csv('../data/cleaned_train.csv')\n",
    "test_df = pd.read_csv('../data/cleaned_test.csv')"
   ]
  },
  {
   "cell_type": "code",
   "execution_count": 3,
   "metadata": {},
   "outputs": [],
   "source": [
    "y_train = train_df['count']\n",
    "X_train = train_df.drop(['count'], axis=1)\n",
    "y_test = test_df['count']\n",
    "X_test = test_df.drop(['count'], axis=1)"
   ]
  },
  {
   "cell_type": "code",
   "execution_count": 4,
   "metadata": {},
   "outputs": [
    {
     "ename": "ValueError",
     "evalue": "Feature shape mismatch, expected: 15, got 13",
     "output_type": "error",
     "traceback": [
      "\u001b[1;31m---------------------------------------------------------------------------\u001b[0m",
      "\u001b[1;31mValueError\u001b[0m                                Traceback (most recent call last)",
      "\u001b[1;32mc:\\ds\\vlib_ml_app\\model\\stacking_flo.ipynb Cell 4'\u001b[0m in \u001b[0;36m<module>\u001b[1;34m\u001b[0m\n\u001b[0;32m      <a href='vscode-notebook-cell:/c%3A/ds/vlib_ml_app/model/stacking_flo.ipynb#ch0000003?line=0'>1</a>\u001b[0m \u001b[39m# Import XGB Florian\u001b[39;00m\n\u001b[0;32m      <a href='vscode-notebook-cell:/c%3A/ds/vlib_ml_app/model/stacking_flo.ipynb#ch0000003?line=2'>3</a>\u001b[0m xgb_flo \u001b[39m=\u001b[39m pickle\u001b[39m.\u001b[39mload(\u001b[39mopen\u001b[39m(\u001b[39m'\u001b[39m\u001b[39mxgb_best.pkl\u001b[39m\u001b[39m'\u001b[39m, \u001b[39m'\u001b[39m\u001b[39mrb\u001b[39m\u001b[39m'\u001b[39m))\n\u001b[1;32m----> <a href='vscode-notebook-cell:/c%3A/ds/vlib_ml_app/model/stacking_flo.ipynb#ch0000003?line=3'>4</a>\u001b[0m result \u001b[39m=\u001b[39m xgb_flo\u001b[39m.\u001b[39;49mscore(X_test, y_test)\n\u001b[0;32m      <a href='vscode-notebook-cell:/c%3A/ds/vlib_ml_app/model/stacking_flo.ipynb#ch0000003?line=4'>5</a>\u001b[0m \u001b[39mprint\u001b[39m(result)\n",
      "File \u001b[1;32m~\\anaconda3\\envs\\datascience\\lib\\site-packages\\sklearn\\base.py:705\u001b[0m, in \u001b[0;36mRegressorMixin.score\u001b[1;34m(self, X, y, sample_weight)\u001b[0m\n\u001b[0;32m    <a href='file:///c%3A/Users/flori/anaconda3/envs/datascience/lib/site-packages/sklearn/base.py?line=662'>663</a>\u001b[0m \u001b[39m\"\"\"Return the coefficient of determination of the prediction.\u001b[39;00m\n\u001b[0;32m    <a href='file:///c%3A/Users/flori/anaconda3/envs/datascience/lib/site-packages/sklearn/base.py?line=663'>664</a>\u001b[0m \n\u001b[0;32m    <a href='file:///c%3A/Users/flori/anaconda3/envs/datascience/lib/site-packages/sklearn/base.py?line=664'>665</a>\u001b[0m \u001b[39mThe coefficient of determination :math:`R^2` is defined as\u001b[39;00m\n\u001b[1;32m   (...)\u001b[0m\n\u001b[0;32m    <a href='file:///c%3A/Users/flori/anaconda3/envs/datascience/lib/site-packages/sklearn/base.py?line=699'>700</a>\u001b[0m \u001b[39m:class:`~sklearn.multioutput.MultiOutputRegressor`).\u001b[39;00m\n\u001b[0;32m    <a href='file:///c%3A/Users/flori/anaconda3/envs/datascience/lib/site-packages/sklearn/base.py?line=700'>701</a>\u001b[0m \u001b[39m\"\"\"\u001b[39;00m\n\u001b[0;32m    <a href='file:///c%3A/Users/flori/anaconda3/envs/datascience/lib/site-packages/sklearn/base.py?line=702'>703</a>\u001b[0m \u001b[39mfrom\u001b[39;00m \u001b[39m.\u001b[39;00m\u001b[39mmetrics\u001b[39;00m \u001b[39mimport\u001b[39;00m r2_score\n\u001b[1;32m--> <a href='file:///c%3A/Users/flori/anaconda3/envs/datascience/lib/site-packages/sklearn/base.py?line=704'>705</a>\u001b[0m y_pred \u001b[39m=\u001b[39m \u001b[39mself\u001b[39;49m\u001b[39m.\u001b[39;49mpredict(X)\n\u001b[0;32m    <a href='file:///c%3A/Users/flori/anaconda3/envs/datascience/lib/site-packages/sklearn/base.py?line=705'>706</a>\u001b[0m \u001b[39mreturn\u001b[39;00m r2_score(y, y_pred, sample_weight\u001b[39m=\u001b[39msample_weight)\n",
      "File \u001b[1;32m~\\anaconda3\\envs\\datascience\\lib\\site-packages\\xgboost\\sklearn.py:881\u001b[0m, in \u001b[0;36mXGBModel.predict\u001b[1;34m(self, X, output_margin, ntree_limit, validate_features, base_margin, iteration_range)\u001b[0m\n\u001b[0;32m    <a href='file:///c%3A/Users/flori/anaconda3/envs/datascience/lib/site-packages/xgboost/sklearn.py?line=878'>879</a>\u001b[0m \u001b[39mif\u001b[39;00m \u001b[39mself\u001b[39m\u001b[39m.\u001b[39m_can_use_inplace_predict():\n\u001b[0;32m    <a href='file:///c%3A/Users/flori/anaconda3/envs/datascience/lib/site-packages/xgboost/sklearn.py?line=879'>880</a>\u001b[0m     \u001b[39mtry\u001b[39;00m:\n\u001b[1;32m--> <a href='file:///c%3A/Users/flori/anaconda3/envs/datascience/lib/site-packages/xgboost/sklearn.py?line=880'>881</a>\u001b[0m         predts \u001b[39m=\u001b[39m \u001b[39mself\u001b[39;49m\u001b[39m.\u001b[39;49mget_booster()\u001b[39m.\u001b[39;49minplace_predict(\n\u001b[0;32m    <a href='file:///c%3A/Users/flori/anaconda3/envs/datascience/lib/site-packages/xgboost/sklearn.py?line=881'>882</a>\u001b[0m             data\u001b[39m=\u001b[39;49mX,\n\u001b[0;32m    <a href='file:///c%3A/Users/flori/anaconda3/envs/datascience/lib/site-packages/xgboost/sklearn.py?line=882'>883</a>\u001b[0m             iteration_range\u001b[39m=\u001b[39;49miteration_range,\n\u001b[0;32m    <a href='file:///c%3A/Users/flori/anaconda3/envs/datascience/lib/site-packages/xgboost/sklearn.py?line=883'>884</a>\u001b[0m             predict_type\u001b[39m=\u001b[39;49m\u001b[39m\"\u001b[39;49m\u001b[39mmargin\u001b[39;49m\u001b[39m\"\u001b[39;49m \u001b[39mif\u001b[39;49;00m output_margin \u001b[39melse\u001b[39;49;00m \u001b[39m\"\u001b[39;49m\u001b[39mvalue\u001b[39;49m\u001b[39m\"\u001b[39;49m,\n\u001b[0;32m    <a href='file:///c%3A/Users/flori/anaconda3/envs/datascience/lib/site-packages/xgboost/sklearn.py?line=884'>885</a>\u001b[0m             missing\u001b[39m=\u001b[39;49m\u001b[39mself\u001b[39;49m\u001b[39m.\u001b[39;49mmissing,\n\u001b[0;32m    <a href='file:///c%3A/Users/flori/anaconda3/envs/datascience/lib/site-packages/xgboost/sklearn.py?line=885'>886</a>\u001b[0m             base_margin\u001b[39m=\u001b[39;49mbase_margin,\n\u001b[0;32m    <a href='file:///c%3A/Users/flori/anaconda3/envs/datascience/lib/site-packages/xgboost/sklearn.py?line=886'>887</a>\u001b[0m             validate_features\u001b[39m=\u001b[39;49mvalidate_features,\n\u001b[0;32m    <a href='file:///c%3A/Users/flori/anaconda3/envs/datascience/lib/site-packages/xgboost/sklearn.py?line=887'>888</a>\u001b[0m         )\n\u001b[0;32m    <a href='file:///c%3A/Users/flori/anaconda3/envs/datascience/lib/site-packages/xgboost/sklearn.py?line=888'>889</a>\u001b[0m         \u001b[39mif\u001b[39;00m _is_cupy_array(predts):\n\u001b[0;32m    <a href='file:///c%3A/Users/flori/anaconda3/envs/datascience/lib/site-packages/xgboost/sklearn.py?line=889'>890</a>\u001b[0m             \u001b[39mimport\u001b[39;00m \u001b[39mcupy\u001b[39;00m     \u001b[39m# pylint: disable=import-error\u001b[39;00m\n",
      "File \u001b[1;32m~\\anaconda3\\envs\\datascience\\lib\\site-packages\\xgboost\\core.py:2018\u001b[0m, in \u001b[0;36mBooster.inplace_predict\u001b[1;34m(self, data, iteration_range, predict_type, missing, validate_features, base_margin, strict_shape)\u001b[0m\n\u001b[0;32m   <a href='file:///c%3A/Users/flori/anaconda3/envs/datascience/lib/site-packages/xgboost/core.py?line=2013'>2014</a>\u001b[0m         \u001b[39mraise\u001b[39;00m \u001b[39mTypeError\u001b[39;00m(\n\u001b[0;32m   <a href='file:///c%3A/Users/flori/anaconda3/envs/datascience/lib/site-packages/xgboost/core.py?line=2014'>2015</a>\u001b[0m             \u001b[39m\"\u001b[39m\u001b[39m`shape` attribute is required when `validate_features` is True.\u001b[39m\u001b[39m\"\u001b[39m\n\u001b[0;32m   <a href='file:///c%3A/Users/flori/anaconda3/envs/datascience/lib/site-packages/xgboost/core.py?line=2015'>2016</a>\u001b[0m         )\n\u001b[0;32m   <a href='file:///c%3A/Users/flori/anaconda3/envs/datascience/lib/site-packages/xgboost/core.py?line=2016'>2017</a>\u001b[0m     \u001b[39mif\u001b[39;00m \u001b[39mlen\u001b[39m(data\u001b[39m.\u001b[39mshape) \u001b[39m!=\u001b[39m \u001b[39m1\u001b[39m \u001b[39mand\u001b[39;00m \u001b[39mself\u001b[39m\u001b[39m.\u001b[39mnum_features() \u001b[39m!=\u001b[39m data\u001b[39m.\u001b[39mshape[\u001b[39m1\u001b[39m]:\n\u001b[1;32m-> <a href='file:///c%3A/Users/flori/anaconda3/envs/datascience/lib/site-packages/xgboost/core.py?line=2017'>2018</a>\u001b[0m         \u001b[39mraise\u001b[39;00m \u001b[39mValueError\u001b[39;00m(\n\u001b[0;32m   <a href='file:///c%3A/Users/flori/anaconda3/envs/datascience/lib/site-packages/xgboost/core.py?line=2018'>2019</a>\u001b[0m             \u001b[39mf\u001b[39m\u001b[39m\"\u001b[39m\u001b[39mFeature shape mismatch, expected: \u001b[39m\u001b[39m{\u001b[39;00m\u001b[39mself\u001b[39m\u001b[39m.\u001b[39mnum_features()\u001b[39m}\u001b[39;00m\u001b[39m, \u001b[39m\u001b[39m\"\u001b[39m\n\u001b[0;32m   <a href='file:///c%3A/Users/flori/anaconda3/envs/datascience/lib/site-packages/xgboost/core.py?line=2019'>2020</a>\u001b[0m             \u001b[39mf\u001b[39m\u001b[39m\"\u001b[39m\u001b[39mgot \u001b[39m\u001b[39m{\u001b[39;00mdata\u001b[39m.\u001b[39mshape[\u001b[39m1\u001b[39m]\u001b[39m}\u001b[39;00m\u001b[39m\"\u001b[39m\n\u001b[0;32m   <a href='file:///c%3A/Users/flori/anaconda3/envs/datascience/lib/site-packages/xgboost/core.py?line=2020'>2021</a>\u001b[0m         )\n\u001b[0;32m   <a href='file:///c%3A/Users/flori/anaconda3/envs/datascience/lib/site-packages/xgboost/core.py?line=2022'>2023</a>\u001b[0m \u001b[39mfrom\u001b[39;00m \u001b[39m.\u001b[39;00m\u001b[39mdata\u001b[39;00m \u001b[39mimport\u001b[39;00m _is_pandas_df, _transform_pandas_df\n\u001b[0;32m   <a href='file:///c%3A/Users/flori/anaconda3/envs/datascience/lib/site-packages/xgboost/core.py?line=2023'>2024</a>\u001b[0m \u001b[39mfrom\u001b[39;00m \u001b[39m.\u001b[39;00m\u001b[39mdata\u001b[39;00m \u001b[39mimport\u001b[39;00m _array_interface\n",
      "\u001b[1;31mValueError\u001b[0m: Feature shape mismatch, expected: 15, got 13"
     ]
    }
   ],
   "source": [
    "# Import XGB Florian\n",
    "\n",
    "xgb_flo = pickle.load(open('xgb_best.pkl', 'rb'))\n",
    "result = xgb_flo.score(X_test, y_test)\n",
    "print(result)"
   ]
  },
  {
   "cell_type": "code",
   "execution_count": null,
   "metadata": {},
   "outputs": [],
   "source": [
    "from sklearn.ensemble import StackingRegressor\n",
    "from sklearn.linear_model import LinearRegression\n",
    "\n",
    "base_models = [('XGB', xgb_flo),\n",
    "               ]\n",
    "meta_model = LinearRegression()\n",
    "stacking_model = StackingRegressor(estimators = base_models, final_estimator = meta_model, cv=2)"
   ]
  },
  {
   "cell_type": "code",
   "execution_count": null,
   "metadata": {},
   "outputs": [
    {
     "data": {
      "text/plain": [
       "StackingRegressor(cv=2,\n",
       "                  estimators=[('XGB',\n",
       "                               LGBMRegressor(learning_rate=0.01,\n",
       "                                             n_estimators=1000))],\n",
       "                  final_estimator=LinearRegression())"
      ]
     },
     "execution_count": 10,
     "metadata": {},
     "output_type": "execute_result"
    }
   ],
   "source": [
    "\n",
    "stacking_model.fit(X_train, y_train)"
   ]
  },
  {
   "cell_type": "code",
   "execution_count": null,
   "metadata": {},
   "outputs": [
    {
     "data": {
      "text/plain": [
       "0.9152402670309673"
      ]
     },
     "execution_count": 11,
     "metadata": {},
     "output_type": "execute_result"
    }
   ],
   "source": [
    "stacking_model.score(X_test, y_test)"
   ]
  },
  {
   "cell_type": "code",
   "execution_count": null,
   "metadata": {},
   "outputs": [
    {
     "name": "stdout",
     "output_type": "stream",
     "text": [
      "r2 0.9152402670309673\n",
      "mae 43.42827816141063\n"
     ]
    }
   ],
   "source": [
    "from sklearn.metrics import *\n",
    "\n",
    "y_pred = stacking_model.predict(X_test)\n",
    "print('r2', r2_score(y_test, y_pred))\n",
    "print('mae', mean_absolute_error(y_test, y_pred))"
   ]
  }
 ],
 "metadata": {
  "interpreter": {
   "hash": "dd1cc886148b1d3dda72fea19e5fba9571a5a0d898d8fb89a58d1d381078e2c8"
  },
  "kernelspec": {
   "display_name": "Python 3.9.7 ('devia')",
   "language": "python",
   "name": "python3"
  },
  "language_info": {
   "codemirror_mode": {
    "name": "ipython",
    "version": 3
   },
   "file_extension": ".py",
   "mimetype": "text/x-python",
   "name": "python",
   "nbconvert_exporter": "python",
   "pygments_lexer": "ipython3",
   "version": "3.9.10"
  },
  "orig_nbformat": 4
 },
 "nbformat": 4,
 "nbformat_minor": 2
}
