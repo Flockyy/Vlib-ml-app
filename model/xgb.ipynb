{
 "cells": [
  {
   "cell_type": "markdown",
   "metadata": {},
   "source": [
    "#### Data import"
   ]
  },
  {
   "cell_type": "code",
   "execution_count": 1,
   "metadata": {},
   "outputs": [],
   "source": [
    "import pandas as pd\n",
    "\n",
    "train_df = pd.read_csv('../data/cleaned_train.csv')\n",
    "test_df = pd.read_csv('../data/cleaned_test.csv')"
   ]
  },
  {
   "cell_type": "markdown",
   "metadata": {},
   "source": [
    "#### Model import\n",
    "I tried XGBoost and LGBM"
   ]
  },
  {
   "cell_type": "code",
   "execution_count": 2,
   "metadata": {},
   "outputs": [],
   "source": [
    "from xgboost import XGBRegressor\n",
    "from lightgbm import LGBMRegressor\n",
    "from sklearn.metrics import r2_score, mean_absolute_error, mean_squared_error, mean_squared_log_error, mean_absolute_percentage_error"
   ]
  },
  {
   "cell_type": "markdown",
   "metadata": {},
   "source": [
    "Checking dataframe"
   ]
  },
  {
   "cell_type": "code",
   "execution_count": 3,
   "metadata": {},
   "outputs": [
    {
     "data": {
      "text/html": [
       "<div>\n",
       "<style scoped>\n",
       "    .dataframe tbody tr th:only-of-type {\n",
       "        vertical-align: middle;\n",
       "    }\n",
       "\n",
       "    .dataframe tbody tr th {\n",
       "        vertical-align: top;\n",
       "    }\n",
       "\n",
       "    .dataframe thead th {\n",
       "        text-align: right;\n",
       "    }\n",
       "</style>\n",
       "<table border=\"1\" class=\"dataframe\">\n",
       "  <thead>\n",
       "    <tr style=\"text-align: right;\">\n",
       "      <th></th>\n",
       "      <th>season</th>\n",
       "      <th>holiday</th>\n",
       "      <th>workingday</th>\n",
       "      <th>weather</th>\n",
       "      <th>temp</th>\n",
       "      <th>humidity</th>\n",
       "      <th>windspeed</th>\n",
       "      <th>count</th>\n",
       "      <th>date</th>\n",
       "      <th>hours</th>\n",
       "    </tr>\n",
       "  </thead>\n",
       "  <tbody>\n",
       "    <tr>\n",
       "      <th>0</th>\n",
       "      <td>1</td>\n",
       "      <td>0</td>\n",
       "      <td>0</td>\n",
       "      <td>1</td>\n",
       "      <td>9.84</td>\n",
       "      <td>81</td>\n",
       "      <td>0.0000</td>\n",
       "      <td>16</td>\n",
       "      <td>0</td>\n",
       "      <td>0</td>\n",
       "    </tr>\n",
       "    <tr>\n",
       "      <th>1</th>\n",
       "      <td>1</td>\n",
       "      <td>0</td>\n",
       "      <td>0</td>\n",
       "      <td>1</td>\n",
       "      <td>9.02</td>\n",
       "      <td>80</td>\n",
       "      <td>0.0000</td>\n",
       "      <td>40</td>\n",
       "      <td>0</td>\n",
       "      <td>1</td>\n",
       "    </tr>\n",
       "    <tr>\n",
       "      <th>2</th>\n",
       "      <td>1</td>\n",
       "      <td>0</td>\n",
       "      <td>0</td>\n",
       "      <td>1</td>\n",
       "      <td>9.02</td>\n",
       "      <td>80</td>\n",
       "      <td>0.0000</td>\n",
       "      <td>32</td>\n",
       "      <td>0</td>\n",
       "      <td>2</td>\n",
       "    </tr>\n",
       "    <tr>\n",
       "      <th>3</th>\n",
       "      <td>1</td>\n",
       "      <td>0</td>\n",
       "      <td>0</td>\n",
       "      <td>1</td>\n",
       "      <td>9.84</td>\n",
       "      <td>75</td>\n",
       "      <td>0.0000</td>\n",
       "      <td>13</td>\n",
       "      <td>0</td>\n",
       "      <td>3</td>\n",
       "    </tr>\n",
       "    <tr>\n",
       "      <th>4</th>\n",
       "      <td>1</td>\n",
       "      <td>0</td>\n",
       "      <td>0</td>\n",
       "      <td>1</td>\n",
       "      <td>9.84</td>\n",
       "      <td>75</td>\n",
       "      <td>0.0000</td>\n",
       "      <td>1</td>\n",
       "      <td>0</td>\n",
       "      <td>4</td>\n",
       "    </tr>\n",
       "    <tr>\n",
       "      <th>...</th>\n",
       "      <td>...</td>\n",
       "      <td>...</td>\n",
       "      <td>...</td>\n",
       "      <td>...</td>\n",
       "      <td>...</td>\n",
       "      <td>...</td>\n",
       "      <td>...</td>\n",
       "      <td>...</td>\n",
       "      <td>...</td>\n",
       "      <td>...</td>\n",
       "    </tr>\n",
       "    <tr>\n",
       "      <th>8603</th>\n",
       "      <td>3</td>\n",
       "      <td>0</td>\n",
       "      <td>1</td>\n",
       "      <td>1</td>\n",
       "      <td>33.62</td>\n",
       "      <td>49</td>\n",
       "      <td>11.0014</td>\n",
       "      <td>505</td>\n",
       "      <td>565</td>\n",
       "      <td>20</td>\n",
       "    </tr>\n",
       "    <tr>\n",
       "      <th>8604</th>\n",
       "      <td>3</td>\n",
       "      <td>0</td>\n",
       "      <td>1</td>\n",
       "      <td>3</td>\n",
       "      <td>27.06</td>\n",
       "      <td>89</td>\n",
       "      <td>16.9979</td>\n",
       "      <td>332</td>\n",
       "      <td>565</td>\n",
       "      <td>21</td>\n",
       "    </tr>\n",
       "    <tr>\n",
       "      <th>8605</th>\n",
       "      <td>3</td>\n",
       "      <td>0</td>\n",
       "      <td>1</td>\n",
       "      <td>3</td>\n",
       "      <td>27.06</td>\n",
       "      <td>89</td>\n",
       "      <td>16.9979</td>\n",
       "      <td>68</td>\n",
       "      <td>565</td>\n",
       "      <td>22</td>\n",
       "    </tr>\n",
       "    <tr>\n",
       "      <th>8606</th>\n",
       "      <td>3</td>\n",
       "      <td>0</td>\n",
       "      <td>1</td>\n",
       "      <td>3</td>\n",
       "      <td>27.06</td>\n",
       "      <td>89</td>\n",
       "      <td>15.0013</td>\n",
       "      <td>65</td>\n",
       "      <td>565</td>\n",
       "      <td>23</td>\n",
       "    </tr>\n",
       "    <tr>\n",
       "      <th>8607</th>\n",
       "      <td>3</td>\n",
       "      <td>0</td>\n",
       "      <td>1</td>\n",
       "      <td>1</td>\n",
       "      <td>27.88</td>\n",
       "      <td>79</td>\n",
       "      <td>11.0014</td>\n",
       "      <td>47</td>\n",
       "      <td>578</td>\n",
       "      <td>0</td>\n",
       "    </tr>\n",
       "  </tbody>\n",
       "</table>\n",
       "<p>8608 rows × 10 columns</p>\n",
       "</div>"
      ],
      "text/plain": [
       "      season  holiday  workingday  weather   temp  humidity  windspeed  count  \\\n",
       "0          1        0           0        1   9.84        81     0.0000     16   \n",
       "1          1        0           0        1   9.02        80     0.0000     40   \n",
       "2          1        0           0        1   9.02        80     0.0000     32   \n",
       "3          1        0           0        1   9.84        75     0.0000     13   \n",
       "4          1        0           0        1   9.84        75     0.0000      1   \n",
       "...      ...      ...         ...      ...    ...       ...        ...    ...   \n",
       "8603       3        0           1        1  33.62        49    11.0014    505   \n",
       "8604       3        0           1        3  27.06        89    16.9979    332   \n",
       "8605       3        0           1        3  27.06        89    16.9979     68   \n",
       "8606       3        0           1        3  27.06        89    15.0013     65   \n",
       "8607       3        0           1        1  27.88        79    11.0014     47   \n",
       "\n",
       "      date  hours  \n",
       "0        0      0  \n",
       "1        0      1  \n",
       "2        0      2  \n",
       "3        0      3  \n",
       "4        0      4  \n",
       "...    ...    ...  \n",
       "8603   565     20  \n",
       "8604   565     21  \n",
       "8605   565     22  \n",
       "8606   565     23  \n",
       "8607   578      0  \n",
       "\n",
       "[8608 rows x 10 columns]"
      ]
     },
     "execution_count": 3,
     "metadata": {},
     "output_type": "execute_result"
    }
   ],
   "source": [
    "train_df"
   ]
  },
  {
   "cell_type": "markdown",
   "metadata": {},
   "source": [
    "I tried oHe with season but the score was worst"
   ]
  },
  {
   "cell_type": "code",
   "execution_count": 4,
   "metadata": {},
   "outputs": [],
   "source": [
    "xgb = XGBRegressor(alpha = 10, gamma = 5, learning_rate = 0.05, n_estimators = 200)"
   ]
  },
  {
   "cell_type": "markdown",
   "metadata": {},
   "source": [
    "Pretty low learning rate, i tried different number a estimators and 200 was generally the best, alpha at 10 : L1 regularization term on weights,\n",
    "Gamma at 5 : specifies the minimum loss reduction required to make a split."
   ]
  },
  {
   "cell_type": "markdown",
   "metadata": {},
   "source": [
    "#### Train, test split"
   ]
  },
  {
   "cell_type": "code",
   "execution_count": 5,
   "metadata": {},
   "outputs": [],
   "source": [
    "y_train = train_df['count']\n",
    "X_train = train_df.drop('count', axis=1)\n",
    "y_test = test_df['count']\n",
    "X_test = test_df.drop('count', axis=1)"
   ]
  },
  {
   "cell_type": "markdown",
   "metadata": {},
   "source": [
    "#### XGBoost Scores"
   ]
  },
  {
   "cell_type": "code",
   "execution_count": 6,
   "metadata": {},
   "outputs": [
    {
     "name": "stdout",
     "output_type": "stream",
     "text": [
      "Train r2 score:  0.9693490775973694 \n",
      "Test:  \n",
      " - r2 score:  0.9073174669582437 \n",
      " - mae:  45.10766438572958 \n",
      " - mse:  4401.119458861249 \n",
      " - rmse:  66.34093350911826 \n",
      " - mape:  0.37048909309619144 \n",
      "\n"
     ]
    }
   ],
   "source": [
    "xgb.fit(X_train, y_train)\n",
    "pred = xgb.predict(X_test)\n",
    "\n",
    "train_score = xgb.score(X_train, y_train)\n",
    "r2 = r2_score(y_test, pred)\n",
    "mae = mean_absolute_error(y_test, pred)\n",
    "mse = mean_squared_error(y_test, pred, squared=True)\n",
    "rmse = mean_squared_error(y_test, pred, squared=False)\n",
    "mape = mean_absolute_percentage_error(y_test, pred)\n",
    "\n",
    "print(f'Train r2 score: ', train_score, '\\n'\n",
    "      'Test: ', '\\n'\n",
    "      ' - r2 score: ',  r2, '\\n'\n",
    "      ' - mae: ',  mae, '\\n'\n",
    "      ' - mse: ',  mse, '\\n'\n",
    "      ' - rmse: ',  rmse, '\\n'\n",
    "      ' - mape: ',  mape, '\\n'\n",
    "      )"
   ]
  },
  {
   "cell_type": "code",
   "execution_count": 7,
   "metadata": {},
   "outputs": [
    {
     "name": "stderr",
     "output_type": "stream",
     "text": [
      "C:\\Users\\Apprenant\\anaconda3\\envs\\datascience\\lib\\site-packages\\sklearn\\model_selection\\_split.py:676: UserWarning: The least populated class in y has only 1 members, which is less than n_splits=10.\n",
      "  warnings.warn(\n"
     ]
    },
    {
     "name": "stdout",
     "output_type": "stream",
     "text": [
      "Cross val score:  0.9433874577508565\n"
     ]
    }
   ],
   "source": [
    "from sklearn.model_selection import learning_curve, StratifiedKFold, cross_val_score\n",
    "import numpy as np\n",
    "\n",
    "skf = StratifiedKFold(n_splits=10)\n",
    "print(f'Cross val score: ', np.mean(cross_val_score(xgb, X_train, y_train, cv=skf)))"
   ]
  },
  {
   "cell_type": "code",
   "execution_count": 8,
   "metadata": {},
   "outputs": [
    {
     "name": "stderr",
     "output_type": "stream",
     "text": [
      "C:\\Users\\Apprenant\\anaconda3\\envs\\datascience\\lib\\site-packages\\sklearn\\model_selection\\_split.py:676: UserWarning: The least populated class in y has only 1 members, which is less than n_splits=10.\n",
      "  warnings.warn(\n"
     ]
    },
    {
     "data": {
      "image/png": "[encoded data removed]",
      "text/plain": [
       "<Figure size 432x288 with 1 Axes>"
      ]
     },
     "metadata": {
      "needs_background": "light"
     },
     "output_type": "display_data"
    }
   ],
   "source": [
    "import matplotlib.pyplot as plt\n",
    "\n",
    "\n",
    "N, train_score, val_score = learning_curve(xgb, X_train, y_train, train_sizes = np.linspace(0.1,1,50), cv=skf, scoring='r2')\n",
    "plt.plot(N, val_score.mean(axis=1), label='validation')\n",
    "plt.plot(N, train_score.mean(axis=1), label='train')\n",
    "\n",
    "plt.xlabel('train_sizes')\n",
    "plt.title('Xgb learning curve')\n",
    "plt.legend()\n",
    "plt.show() "
   ]
  },
  {
   "cell_type": "code",
   "execution_count": 9,
   "metadata": {},
   "outputs": [],
   "source": [
    "import pickle\n",
    "pickle.dump(xgb, open('xgb_best.pkl', 'wb'))"
   ]
  },
  {
   "cell_type": "code",
   "execution_count": 15,
   "metadata": {},
   "outputs": [
    {
     "name": "stdout",
     "output_type": "stream",
     "text": [
      "[16:58:08] WARNING: C:/Users/Administrator/workspace/xgboost-win64_release_1.5.1/src/objective/regression_obj.cu:188: reg:linear is now deprecated in favor of reg:squarederror.\n",
      "[16:58:09] WARNING: C:/Users/Administrator/workspace/xgboost-win64_release_1.5.1/src/objective/regression_obj.cu:188: reg:linear is now deprecated in favor of reg:squarederror.\n",
      "[16:58:09] WARNING: C:/Users/Administrator/workspace/xgboost-win64_release_1.5.1/src/objective/regression_obj.cu:188: reg:linear is now deprecated in favor of reg:squarederror.\n",
      "[16:58:09] WARNING: C:/Users/Administrator/workspace/xgboost-win64_release_1.5.1/src/objective/regression_obj.cu:188: reg:linear is now deprecated in favor of reg:squarederror.\n",
      "[LightGBM] [Warning] min_data_in_leaf is set=0, min_child_samples=20 will be ignored. Current value: min_data_in_leaf=0\n",
      "[16:58:11] WARNING: C:/Users/Administrator/workspace/xgboost-win64_release_1.5.1/src/objective/regression_obj.cu:188: reg:linear is now deprecated in favor of reg:squarederror.\n",
      "[16:58:11] WARNING: C:/Users/Administrator/workspace/xgboost-win64_release_1.5.1/src/objective/regression_obj.cu:188: reg:linear is now deprecated in favor of reg:squarederror.\n",
      "[16:58:12] WARNING: C:/Users/Administrator/workspace/xgboost-win64_release_1.5.1/src/objective/regression_obj.cu:188: reg:linear is now deprecated in favor of reg:squarederror.\n",
      "[16:58:12] WARNING: C:/Users/Administrator/workspace/xgboost-win64_release_1.5.1/src/objective/regression_obj.cu:188: reg:linear is now deprecated in favor of reg:squarederror.\n",
      "[16:58:13] WARNING: C:/Users/Administrator/workspace/xgboost-win64_release_1.5.1/src/objective/regression_obj.cu:188: reg:linear is now deprecated in favor of reg:squarederror.\n",
      "[16:58:13] WARNING: C:/Users/Administrator/workspace/xgboost-win64_release_1.5.1/src/objective/regression_obj.cu:188: reg:linear is now deprecated in favor of reg:squarederror.\n",
      "[16:58:14] WARNING: C:/Users/Administrator/workspace/xgboost-win64_release_1.5.1/src/objective/regression_obj.cu:188: reg:linear is now deprecated in favor of reg:squarederror.\n",
      "[16:58:14] WARNING: C:/Users/Administrator/workspace/xgboost-win64_release_1.5.1/src/objective/regression_obj.cu:188: reg:linear is now deprecated in favor of reg:squarederror.\n",
      "[16:58:14] WARNING: C:/Users/Administrator/workspace/xgboost-win64_release_1.5.1/src/objective/regression_obj.cu:188: reg:linear is now deprecated in favor of reg:squarederror.\n",
      "[16:58:15] WARNING: C:/Users/Administrator/workspace/xgboost-win64_release_1.5.1/src/objective/regression_obj.cu:188: reg:linear is now deprecated in favor of reg:squarederror.\n",
      "[16:58:15] WARNING: C:/Users/Administrator/workspace/xgboost-win64_release_1.5.1/src/objective/regression_obj.cu:188: reg:linear is now deprecated in favor of reg:squarederror.\n",
      "[16:58:15] WARNING: C:/Users/Administrator/workspace/xgboost-win64_release_1.5.1/src/objective/regression_obj.cu:188: reg:linear is now deprecated in favor of reg:squarederror.\n",
      "[16:58:16] WARNING: C:/Users/Administrator/workspace/xgboost-win64_release_1.5.1/src/objective/regression_obj.cu:188: reg:linear is now deprecated in favor of reg:squarederror.\n",
      "[16:58:16] WARNING: C:/Users/Administrator/workspace/xgboost-win64_release_1.5.1/src/objective/regression_obj.cu:188: reg:linear is now deprecated in favor of reg:squarederror.\n",
      "[16:58:16] WARNING: C:/Users/Administrator/workspace/xgboost-win64_release_1.5.1/src/objective/regression_obj.cu:188: reg:linear is now deprecated in favor of reg:squarederror.\n",
      "[16:58:17] WARNING: C:/Users/Administrator/workspace/xgboost-win64_release_1.5.1/src/objective/regression_obj.cu:188: reg:linear is now deprecated in favor of reg:squarederror.\n",
      "[16:58:17] WARNING: C:/Users/Administrator/workspace/xgboost-win64_release_1.5.1/src/objective/regression_obj.cu:188: reg:linear is now deprecated in favor of reg:squarederror.\n",
      "[16:58:17] WARNING: C:/Users/Administrator/workspace/xgboost-win64_release_1.5.1/src/objective/regression_obj.cu:188: reg:linear is now deprecated in favor of reg:squarederror.\n",
      "[16:58:18] WARNING: C:/Users/Administrator/workspace/xgboost-win64_release_1.5.1/src/objective/regression_obj.cu:188: reg:linear is now deprecated in favor of reg:squarederror.\n",
      "[16:58:18] WARNING: C:/Users/Administrator/workspace/xgboost-win64_release_1.5.1/src/objective/regression_obj.cu:188: reg:linear is now deprecated in favor of reg:squarederror.\n",
      "[LightGBM] [Warning] min_data_in_leaf is set=0, min_child_samples=20 will be ignored. Current value: min_data_in_leaf=0\n",
      "[LightGBM] [Warning] min_data_in_leaf is set=0, min_child_samples=20 will be ignored. Current value: min_data_in_leaf=0\n",
      "[LightGBM] [Warning] min_data_in_leaf is set=0, min_child_samples=20 will be ignored. Current value: min_data_in_leaf=0\n",
      "[LightGBM] [Warning] min_data_in_leaf is set=0, min_child_samples=20 will be ignored. Current value: min_data_in_leaf=0\n",
      "[LightGBM] [Warning] min_data_in_leaf is set=20, min_child_samples=20 will be ignored. Current value: min_data_in_leaf=20\n",
      "Train r2 score:  0.9826711314468535 \n",
      "Test:  \n",
      " - r2 score:  0.8749320139601638 \n",
      " - mae:  52.422218221901254 \n",
      " - mse:  5938.973925027708 \n",
      " - rmse:  77.06473853214392 \n",
      " - mape:  0.35986326203353486 \n",
      "\n"
     ]
    }
   ],
   "source": [
    "from sklearn.ensemble import StackingRegressor\n",
    "\n",
    "estimators = [\n",
    "    ('xgb1', XGBRegressor(booster = \"gbtree\",\n",
    "                        colsample_bytree = 0.6,\n",
    "                        eta= 0.4,\n",
    "                        gamma= 0.1,\n",
    "                        max_depth= 10,\n",
    "                        max_leaves= 31,\n",
    "                        n_estimators= 50,\n",
    "                        objective= \"reg:linear\",\n",
    "                        reg_alpha= 0,\n",
    "                        reg_lambda= 0.625,\n",
    "                        subsample= 0.8,\n",
    "                        tree_method= \"auto\")),\n",
    "    ('xgb2', XGBRegressor(booster = \"gbtree\",\n",
    "                        colsample_bytree = 0.9,\n",
    "                        eta = 0.5,\n",
    "                        gamma = 0.01,\n",
    "                        max_depth = 8,\n",
    "                        max_leaves = 0,\n",
    "                        n_estimators = 50,\n",
    "                        objective = \"reg:linear\",\n",
    "                        reg_alpha = 1.3541666666666667,\n",
    "                        reg_lambda = 1.6666666666666667,\n",
    "                        subsample = 1,\n",
    "                        tree_method = \"auto\")),\n",
    "    ('xgb3', XGBRegressor(booster = \"gbtree\",\n",
    "                        colsample_bytree = 0.5,\n",
    "                        eta = 0.3,\n",
    "                        gamma = 0,\n",
    "                        max_depth = 6,\n",
    "                        max_leaves = 0,\n",
    "                        n_estimators = 100,\n",
    "                        objective = \"reg:linear\",\n",
    "                        reg_alpha = 1.6666666666666667,\n",
    "                        reg_lambda = 1.9791666666666667,\n",
    "                        subsample = 0.5,\n",
    "                        tree_method = \"auto\")),\n",
    "    ('xgb4', XGBRegressor(booster = \"gbtree\",\n",
    "                        colsample_bytree = 0.5,\n",
    "                        eta = 0.3,\n",
    "                        gamma = 0,\n",
    "                        max_depth = 9,\n",
    "                        max_leaves = 0,\n",
    "                        n_estimators = 50,\n",
    "                        objective = \"reg:linear\",\n",
    "                        reg_alpha = 0.3125,\n",
    "                        reg_lambda = 1.5625,\n",
    "                        subsample = 0.5,\n",
    "                        tree_method = \"auto\")),\n",
    "    ('lgbm1', LGBMRegressor(boosting_type = \"gbdt\",\n",
    "                        colsample_bytree = 0.6,\n",
    "                        learning_rate = 0.16842263157894738,\n",
    "                        max_bin = 1023,\n",
    "                        max_depth = 9,\n",
    "                        min_data_in_leaf = 0,\n",
    "                        min_split_gain = 1,\n",
    "                        n_estimators = 100,\n",
    "                        num_leaves = 255,\n",
    "                        reg_alpha = 0,\n",
    "                        reg_lambda = 0.75,\n",
    "                        subsample = 0.9,\n",
    "                        subsample_freq = 6)),\n",
    "    ('xgb5', XGBRegressor(tree_method = \"auto\"))\n",
    "]\n",
    "\n",
    "SR = StackingRegressor(estimators=estimators, final_estimator=LGBMRegressor(min_data_in_leaf = 20))\n",
    "\n",
    "SR.fit(X_train, y_train)\n",
    "pred = SR.predict(X_test)\n",
    "\n",
    "train_score = SR.score(X_train, y_train)\n",
    "r2 = r2_score(y_test, pred)\n",
    "mae = mean_absolute_error(y_test, pred)\n",
    "mse = mean_squared_error(y_test, pred, squared=True)\n",
    "rmse = mean_squared_error(y_test, pred, squared=False)\n",
    "mape = mean_absolute_percentage_error(y_test, pred)\n",
    "\n",
    "print(f'Train r2 score: ', train_score, '\\n'\n",
    "      'Test: ', '\\n'\n",
    "      ' - r2 score: ',  r2, '\\n'\n",
    "      ' - mae: ',  mae, '\\n'\n",
    "      ' - mse: ',  mse, '\\n'\n",
    "      ' - rmse: ',  rmse, '\\n'\n",
    "      ' - mape: ',  mape, '\\n'\n",
    "      )"
   ]
  },
  {
   "cell_type": "code",
   "execution_count": null,
   "metadata": {},
   "outputs": [],
   "source": []
  }
 ],
 "metadata": {
  "interpreter": {
   "hash": "a86bb9999e185c5eb4718a1126b266a576153fe71177607b62eca8ed5e27b4d9"
  },
  "kernelspec": {
   "display_name": "Python 3.9.7 ('datascience')",
   "language": "python",
   "name": "python3"
  },
  "language_info": {
   "codemirror_mode": {
    "name": "ipython",
    "version": 3
   },
   "file_extension": ".py",
   "mimetype": "text/x-python",
   "name": "python",
   "nbconvert_exporter": "python",
   "pygments_lexer": "ipython3",
   "version": "3.9.7"
  },
  "orig_nbformat": 4
 },
 "nbformat": 4,
 "nbformat_minor": 2
}
